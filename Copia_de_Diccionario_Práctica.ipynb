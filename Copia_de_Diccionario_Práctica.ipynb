{
  "nbformat": 4,
  "nbformat_minor": 0,
  "metadata": {
    "colab": {
      "provenance": [],
      "include_colab_link": true
    },
    "kernelspec": {
      "name": "python3",
      "display_name": "Python 3"
    },
    "language_info": {
      "name": "python"
    }
  },
  "cells": [
    {
      "cell_type": "markdown",
      "metadata": {
        "id": "view-in-github",
        "colab_type": "text"
      },
      "source": [
        "<a href=\"https://colab.research.google.com/github/TadeoDElia/tps-pii-colab/blob/main/Copia_de_Diccionario_Pr%C3%A1ctica.ipynb\" target=\"_parent\"><img src=\"https://colab.research.google.com/assets/colab-badge.svg\" alt=\"Open In Colab\"/></a>"
      ]
    },
    {
      "cell_type": "code",
      "execution_count": 1,
      "metadata": {
        "id": "8VOD-zpMJovw"
      },
      "outputs": [],
      "source": [
        "# Listas de alumnos\n",
        "estudiantes_5d = [\n",
        "   (\"Alurralde, Solange Stefania\",\"D\",\"02/04/2007\"),\n",
        "   (\"Alvarado, Ludmila Del Milagro\",\"D\",\"06/09/2006\"),\n",
        "   (\"Angel, Camila Juliana\",\"D\",\"07/03/2007\"),\n",
        "   (\"Arenas, Lucas Gabriel\",\"D\",\"26/06/2007\"),\n",
        "   (\"Caseres, Maria Antonia\",\"D\",\"01/07/2006\"),\n",
        "   (\"Castillo, Paulina Milagros\",\"D\",\"01/06/2007\"),\n",
        "   (\"Correa Segovia, Hugo Mariano\",\"D\",\"04/12/2006\"),\n",
        "   (\"D Elia, Alvaro Tadeo\",\"D\",\"27/08/2006\"),\n",
        "   (\"Flores, Victoria Agustina\",\"D\",\"12/12/2006\"),\n",
        "   (\"Geronimo Soriano, Lizzie Amaya\",\"D\",\"20/01/2007\"),\n",
        "   (\"GUZMAN, ANGÉLICA MORENA\",\"D\",\"11/04/2007\"),\n",
        "   (\"Guzman, Jazmin Esmeralda Belen\",\"D\",\"31/07/2006\"),\n",
        "   (\"Jaime, Anita Maria Belen\",\"D\",\"19/04/2007\"),\n",
        "   (\"Lacour Polo, Nazarena\",\"D\",\"19/12/2005\"),\n",
        "   (\"Lascano Guanca, Marcelo Fabricio\",\"D\",\"17/02/2006\"),\n",
        "   (\"Lezcano, Celia Morena\",\"D\",\"01/07/2005\"),\n",
        "   (\"Martinez, Tomas Andres\",\"D\",\"22/03/2007\"),\n",
        "   (\"PORTELLA VALDIVIA, PEDRO FRANCISCO\",\"D\",\"24/01/2007\"),\n",
        "   (\"Retamal Cisneros, Zacarias Josue\",\"D\",\"24/02/2007\"),\n",
        "   (\"Rosales, Francisco Gabriel\",\"D\",\"14/11/2006\"),\n",
        "   (\"Salem Barba, Mahia\",\"D\",\"14/10/2005\"),\n",
        "   (\"Soto Camara, Agustin Ignacio\",\"D\",\"07/11/2005\"),\n",
        "   (\"Villalba, Irina\",\"D\",\"09/09/2006\"),\n",
        "   (\"Voltolini, Emanuel Tobias\",\"D\",\"17/09/2006\"),\n",
        "   (\"Zalazar, Santino Stefano\",\"D\",\"30/09/2006\")\n",
        "]\n",
        "\n",
        "estudiantes_5c=[\n",
        "    (\"ABUD LASPIUR, LOURDES MARIEL\",\"C\",\"05/12/2006\"),\n",
        "    (\"Amador, Luana Micaela\",\"C\",\"09/12/2006\"),\n",
        "    (\"Anaquin, Leonardo Ezequiel\",\"C\",\"06/09/2005\"),\n",
        "    (\"Araoz Sanchez, Lautaro Nahuel\",\"C\",\"28/12/2005\"),\n",
        "    (\"Argañaraz, Agostina Abril\",\"C\",\"11/10/2006\"),\n",
        "    (\"Barrera, Matias Ezequiel\",\"C\",\"27/02/2007\"),\n",
        "    (\"Barrozo Vedia, Joaquin Nicolas\",\"C\",\"15/04/2006\"),\n",
        "    (\"Bettinelli, Valentino\",\"C\",\"12/07/2006\"),\n",
        "    (\"Bracamonte Martinez, Salvador\",\"C\",\"02/11/2005\"),\n",
        "    (\"Colque Rivero, Ariana Zoe Del Valle\",\"C\",\"27/12/2006\"),\n",
        "    (\"Diaz, Dulce Maitena\",\"C\",\"11/12/2006\"),\n",
        "    (\"FIGUEROA, SANTINO JOSUE\",\"C\",\"12/05/2007\"),\n",
        "    (\"Flores Cardozo, Agustina Tiara\",\"C\",\"18/03/2006\"),\n",
        "    (\"Gallo, Octavio Ismael\",\"C\",\"04/08/2006\"),\n",
        "    (\"Galvan, Lourdes Yamila\",\"C\",\"19/08/2005\"),\n",
        "    (\"Giangreco, Vitto Tomasso\",\"C\",\"21/03/2007\"),\n",
        "    (\"Grancara, Martina Luna\",\"C\",\"15/12/2006\"),\n",
        "    (\"Guanca, Sara Elizabeth\",\"C\",\"17/01/2007\"),\n",
        "    (\"Lopez, Victoria Constanza\",\"C\",\"12/11/2007\"),\n",
        "    (\"Mamani Garrido, Rosario Agostina\",\"C\",\"24/10/2006\"),\n",
        "    (\"Marinaro, Martin Ezequiel\",\"C\",\"03/11/2006\"),\n",
        "    (\"Merluzzi Dagum, Ignacio\",\"C\",\"22/12/2005\"),\n",
        "    (\"Messina, Martina\",\"C\",\"13/07/2005\"),\n",
        "    (\"RASUK, KARIM\", \"C\",\"13/07/2007\"),\n",
        "    (\"Rios, Lucia Magali\",\"C\",\"22/09/2006\"),\n",
        "    (\"Sanchez Flores, Matías Agustín\",\"C\",\"15/02/2007\"),\n",
        "    (\"Scarano, Renato Marcelo\",\"C\",\"06/12/2006\"),\n",
        "    (\"Sierra, Lucas Mauricio\",\"C\",\"03/04/2005\"),\n",
        "    (\"Tapia, Martin Gabriel\",\"C\",\"30/05/2006\"),\n",
        "    (\"Vilte, Mia Antonella Alondra\",\"C\",\"10/09/2005\"),\n",
        "    (\"Virgillito, Katya Milena\",\"C\",\"19/06/2007\")\n",
        "]"
      ]
    },
    {
      "cell_type": "markdown",
      "source": [
        "## Dada la lista estudiantes:\n",
        "> - Hacer una celda para resolver cada punto.\n",
        "- El TP resuelto será revisado en tu repositorio, no es necesario que lo envíes, pero sí que lo pushees correctamente.\n",
        "- En la nota inicial se contempla:\n",
        "  - La incorporación de este documento a tu propio respositorio.\n",
        "  - El pusheo de los cambios realizados.\n",
        "  - La resolución de los ejercicios propuestos.\n"
      ],
      "metadata": {
        "id": "rd6Ug6v3J4uN"
      }
    },
    {
      "cell_type": "markdown",
      "source": [
        "1. Reemplaza todos los valores del nombre por los que obtengas del método title(). De esta manera las listas quedaran con los datos más homogéneos."
      ],
      "metadata": {
        "id": "wRLng-uURyJ3"
      }
    },
    {
      "cell_type": "code",
      "source": [
        "for i in range(len(estudiantes_5d)):\n",
        "  nombre_completo, division, cumpleannos = estudiantes_5d[i]\n",
        "  nombre_completo = nombre_completo.title()\n",
        "  estudiantes_5d[i] = (nombre_completo, division, cumpleannos)\n",
        "for estudiante in estudiantes_5d:\n",
        "  print(estudiante)\n",
        "\n",
        "for i in range(len(estudiantes_5c)):\n",
        "  nombre_completo, division, cumpleannos = estudiantes_5c[i]\n",
        "  nombre_completo = nombre_completo.title()\n",
        "  estudiantes_5c[i] = (nombre_completo, division, cumpleannos)\n",
        "for estudiante in estudiantes_5c:\n",
        "  print(estudiante)"
      ],
      "metadata": {
        "id": "5lFqJoTaSIWi",
        "colab": {
          "base_uri": "https://localhost:8080/"
        },
        "outputId": "088f73c3-5531-41a1-8831-8e7dd26964c8"
      },
      "execution_count": 3,
      "outputs": [
        {
          "output_type": "stream",
          "name": "stdout",
          "text": [
            "('Alurralde, Solange Stefania', 'D', '02/04/2007')\n",
            "('Alvarado, Ludmila Del Milagro', 'D', '06/09/2006')\n",
            "('Angel, Camila Juliana', 'D', '07/03/2007')\n",
            "('Arenas, Lucas Gabriel', 'D', '26/06/2007')\n",
            "('Caseres, Maria Antonia', 'D', '01/07/2006')\n",
            "('Castillo, Paulina Milagros', 'D', '01/06/2007')\n",
            "('Correa Segovia, Hugo Mariano', 'D', '04/12/2006')\n",
            "('D Elia, Alvaro Tadeo', 'D', '27/08/2006')\n",
            "('Flores, Victoria Agustina', 'D', '12/12/2006')\n",
            "('Geronimo Soriano, Lizzie Amaya', 'D', '20/01/2007')\n",
            "('Guzman, Angélica Morena', 'D', '11/04/2007')\n",
            "('Guzman, Jazmin Esmeralda Belen', 'D', '31/07/2006')\n",
            "('Jaime, Anita Maria Belen', 'D', '19/04/2007')\n",
            "('Lacour Polo, Nazarena', 'D', '19/12/2005')\n",
            "('Lascano Guanca, Marcelo Fabricio', 'D', '17/02/2006')\n",
            "('Lezcano, Celia Morena', 'D', '01/07/2005')\n",
            "('Martinez, Tomas Andres', 'D', '22/03/2007')\n",
            "('Portella Valdivia, Pedro Francisco', 'D', '24/01/2007')\n",
            "('Retamal Cisneros, Zacarias Josue', 'D', '24/02/2007')\n",
            "('Rosales, Francisco Gabriel', 'D', '14/11/2006')\n",
            "('Salem Barba, Mahia', 'D', '14/10/2005')\n",
            "('Soto Camara, Agustin Ignacio', 'D', '07/11/2005')\n",
            "('Villalba, Irina', 'D', '09/09/2006')\n",
            "('Voltolini, Emanuel Tobias', 'D', '17/09/2006')\n",
            "('Zalazar, Santino Stefano', 'D', '30/09/2006')\n",
            "('Abud Laspiur, Lourdes Mariel', 'C', '05/12/2006')\n",
            "('Amador, Luana Micaela', 'C', '09/12/2006')\n",
            "('Anaquin, Leonardo Ezequiel', 'C', '06/09/2005')\n",
            "('Araoz Sanchez, Lautaro Nahuel', 'C', '28/12/2005')\n",
            "('Argañaraz, Agostina Abril', 'C', '11/10/2006')\n",
            "('Barrera, Matias Ezequiel', 'C', '27/02/2007')\n",
            "('Barrozo Vedia, Joaquin Nicolas', 'C', '15/04/2006')\n",
            "('Bettinelli, Valentino', 'C', '12/07/2006')\n",
            "('Bracamonte Martinez, Salvador', 'C', '02/11/2005')\n",
            "('Colque Rivero, Ariana Zoe Del Valle', 'C', '27/12/2006')\n",
            "('Diaz, Dulce Maitena', 'C', '11/12/2006')\n",
            "('Figueroa, Santino Josue', 'C', '12/05/2007')\n",
            "('Flores Cardozo, Agustina Tiara', 'C', '18/03/2006')\n",
            "('Gallo, Octavio Ismael', 'C', '04/08/2006')\n",
            "('Galvan, Lourdes Yamila', 'C', '19/08/2005')\n",
            "('Giangreco, Vitto Tomasso', 'C', '21/03/2007')\n",
            "('Grancara, Martina Luna', 'C', '15/12/2006')\n",
            "('Guanca, Sara Elizabeth', 'C', '17/01/2007')\n",
            "('Lopez, Victoria Constanza', 'C', '12/11/2007')\n",
            "('Mamani Garrido, Rosario Agostina', 'C', '24/10/2006')\n",
            "('Marinaro, Martin Ezequiel', 'C', '03/11/2006')\n",
            "('Merluzzi Dagum, Ignacio', 'C', '22/12/2005')\n",
            "('Messina, Martina', 'C', '13/07/2005')\n",
            "('Rasuk, Karim', 'C', '13/07/2007')\n",
            "('Rios, Lucia Magali', 'C', '22/09/2006')\n",
            "('Sanchez Flores, Matías Agustín', 'C', '15/02/2007')\n",
            "('Scarano, Renato Marcelo', 'C', '06/12/2006')\n",
            "('Sierra, Lucas Mauricio', 'C', '03/04/2005')\n",
            "('Tapia, Martin Gabriel', 'C', '30/05/2006')\n",
            "('Vilte, Mia Antonella Alondra', 'C', '10/09/2005')\n",
            "('Virgillito, Katya Milena', 'C', '19/06/2007')\n"
          ]
        }
      ]
    },
    {
      "cell_type": "markdown",
      "source": [
        "2. Genera una lista de diccionarios con los datos de las listas, donde las claves de los mismos serán:\n",
        "- \"apellido\"\n",
        "- \"nombre\"\n",
        "- \"curso\"\n",
        "- \"division\"\n",
        "- \"feha_de_nacimiento\"\n",
        "\n",
        "Muestra la información generada."
      ],
      "metadata": {
        "id": "dYEGkYZyLy9I"
      }
    },
    {
      "cell_type": "code",
      "source": [
        "for i in range(len(estudiantes_5d)):\n",
        "  nombre_completo, division, cumpleaños = estudiantes_5d[i]\n",
        "  nombre_completo = nombre_completo.split(\",\")\n",
        "  apellido, nombre = nombre_completo\n",
        "  dicc = {\n",
        "    \"apellido\" : apellido,\n",
        "    \"nombre\" : nombre,\n",
        "    \"curso\" : 5,\n",
        "    \"division\" : division,\n",
        "    \"cumpleaños\" : cumpleaños\n",
        "    }\n",
        "  estudiantes_5d[i] = dicc\n",
        "  print(estudiantes_5d[i])\n",
        "\n",
        "for i in range(len(estudiantes_5c)):\n",
        "  nombre_completo, division, cumpleannos = estudiantes_5c[i]\n",
        "  nombre_completo = nombre_completo.split(\",\")\n",
        "  apellido, nombre = nombre_completo\n",
        "  dicc = {\n",
        "    \"apellido\" : apellido,\n",
        "    \"nombre\" : nombre,\n",
        "    \"curso\" : 5,\n",
        "    \"division\" : division,\n",
        "    \"cumpleaños\" : cumpleaños\n",
        "    }\n",
        "  estudiantes_5c[i] = dicc\n",
        "  print(estudiantes_5c[i])"
      ],
      "metadata": {
        "id": "wIOAbnhyDbru",
        "colab": {
          "base_uri": "https://localhost:8080/"
        },
        "outputId": "b311c9d3-bc3d-4724-e316-1d64aa481f38"
      },
      "execution_count": 4,
      "outputs": [
        {
          "output_type": "stream",
          "name": "stdout",
          "text": [
            "{'apellido': 'Alurralde', 'nombre': ' Solange Stefania', 'curso': 5, 'division': 'D', 'cumpleaños': '02/04/2007'}\n",
            "{'apellido': 'Alvarado', 'nombre': ' Ludmila Del Milagro', 'curso': 5, 'division': 'D', 'cumpleaños': '06/09/2006'}\n",
            "{'apellido': 'Angel', 'nombre': ' Camila Juliana', 'curso': 5, 'division': 'D', 'cumpleaños': '07/03/2007'}\n",
            "{'apellido': 'Arenas', 'nombre': ' Lucas Gabriel', 'curso': 5, 'division': 'D', 'cumpleaños': '26/06/2007'}\n",
            "{'apellido': 'Caseres', 'nombre': ' Maria Antonia', 'curso': 5, 'division': 'D', 'cumpleaños': '01/07/2006'}\n",
            "{'apellido': 'Castillo', 'nombre': ' Paulina Milagros', 'curso': 5, 'division': 'D', 'cumpleaños': '01/06/2007'}\n",
            "{'apellido': 'Correa Segovia', 'nombre': ' Hugo Mariano', 'curso': 5, 'division': 'D', 'cumpleaños': '04/12/2006'}\n",
            "{'apellido': 'D Elia', 'nombre': ' Alvaro Tadeo', 'curso': 5, 'division': 'D', 'cumpleaños': '27/08/2006'}\n",
            "{'apellido': 'Flores', 'nombre': ' Victoria Agustina', 'curso': 5, 'division': 'D', 'cumpleaños': '12/12/2006'}\n",
            "{'apellido': 'Geronimo Soriano', 'nombre': ' Lizzie Amaya', 'curso': 5, 'division': 'D', 'cumpleaños': '20/01/2007'}\n",
            "{'apellido': 'Guzman', 'nombre': ' Angélica Morena', 'curso': 5, 'division': 'D', 'cumpleaños': '11/04/2007'}\n",
            "{'apellido': 'Guzman', 'nombre': ' Jazmin Esmeralda Belen', 'curso': 5, 'division': 'D', 'cumpleaños': '31/07/2006'}\n",
            "{'apellido': 'Jaime', 'nombre': ' Anita Maria Belen', 'curso': 5, 'division': 'D', 'cumpleaños': '19/04/2007'}\n",
            "{'apellido': 'Lacour Polo', 'nombre': ' Nazarena', 'curso': 5, 'division': 'D', 'cumpleaños': '19/12/2005'}\n",
            "{'apellido': 'Lascano Guanca', 'nombre': ' Marcelo Fabricio', 'curso': 5, 'division': 'D', 'cumpleaños': '17/02/2006'}\n",
            "{'apellido': 'Lezcano', 'nombre': ' Celia Morena', 'curso': 5, 'division': 'D', 'cumpleaños': '01/07/2005'}\n",
            "{'apellido': 'Martinez', 'nombre': ' Tomas Andres', 'curso': 5, 'division': 'D', 'cumpleaños': '22/03/2007'}\n",
            "{'apellido': 'Portella Valdivia', 'nombre': ' Pedro Francisco', 'curso': 5, 'division': 'D', 'cumpleaños': '24/01/2007'}\n",
            "{'apellido': 'Retamal Cisneros', 'nombre': ' Zacarias Josue', 'curso': 5, 'division': 'D', 'cumpleaños': '24/02/2007'}\n",
            "{'apellido': 'Rosales', 'nombre': ' Francisco Gabriel', 'curso': 5, 'division': 'D', 'cumpleaños': '14/11/2006'}\n",
            "{'apellido': 'Salem Barba', 'nombre': ' Mahia', 'curso': 5, 'division': 'D', 'cumpleaños': '14/10/2005'}\n",
            "{'apellido': 'Soto Camara', 'nombre': ' Agustin Ignacio', 'curso': 5, 'division': 'D', 'cumpleaños': '07/11/2005'}\n",
            "{'apellido': 'Villalba', 'nombre': ' Irina', 'curso': 5, 'division': 'D', 'cumpleaños': '09/09/2006'}\n",
            "{'apellido': 'Voltolini', 'nombre': ' Emanuel Tobias', 'curso': 5, 'division': 'D', 'cumpleaños': '17/09/2006'}\n",
            "{'apellido': 'Zalazar', 'nombre': ' Santino Stefano', 'curso': 5, 'division': 'D', 'cumpleaños': '30/09/2006'}\n",
            "{'apellido': 'Abud Laspiur', 'nombre': ' Lourdes Mariel', 'curso': 5, 'division': 'C', 'cumpleaños': '30/09/2006'}\n",
            "{'apellido': 'Amador', 'nombre': ' Luana Micaela', 'curso': 5, 'division': 'C', 'cumpleaños': '30/09/2006'}\n",
            "{'apellido': 'Anaquin', 'nombre': ' Leonardo Ezequiel', 'curso': 5, 'division': 'C', 'cumpleaños': '30/09/2006'}\n",
            "{'apellido': 'Araoz Sanchez', 'nombre': ' Lautaro Nahuel', 'curso': 5, 'division': 'C', 'cumpleaños': '30/09/2006'}\n",
            "{'apellido': 'Argañaraz', 'nombre': ' Agostina Abril', 'curso': 5, 'division': 'C', 'cumpleaños': '30/09/2006'}\n",
            "{'apellido': 'Barrera', 'nombre': ' Matias Ezequiel', 'curso': 5, 'division': 'C', 'cumpleaños': '30/09/2006'}\n",
            "{'apellido': 'Barrozo Vedia', 'nombre': ' Joaquin Nicolas', 'curso': 5, 'division': 'C', 'cumpleaños': '30/09/2006'}\n",
            "{'apellido': 'Bettinelli', 'nombre': ' Valentino', 'curso': 5, 'division': 'C', 'cumpleaños': '30/09/2006'}\n",
            "{'apellido': 'Bracamonte Martinez', 'nombre': ' Salvador', 'curso': 5, 'division': 'C', 'cumpleaños': '30/09/2006'}\n",
            "{'apellido': 'Colque Rivero', 'nombre': ' Ariana Zoe Del Valle', 'curso': 5, 'division': 'C', 'cumpleaños': '30/09/2006'}\n",
            "{'apellido': 'Diaz', 'nombre': ' Dulce Maitena', 'curso': 5, 'division': 'C', 'cumpleaños': '30/09/2006'}\n",
            "{'apellido': 'Figueroa', 'nombre': ' Santino Josue', 'curso': 5, 'division': 'C', 'cumpleaños': '30/09/2006'}\n",
            "{'apellido': 'Flores Cardozo', 'nombre': ' Agustina Tiara', 'curso': 5, 'division': 'C', 'cumpleaños': '30/09/2006'}\n",
            "{'apellido': 'Gallo', 'nombre': ' Octavio Ismael', 'curso': 5, 'division': 'C', 'cumpleaños': '30/09/2006'}\n",
            "{'apellido': 'Galvan', 'nombre': ' Lourdes Yamila', 'curso': 5, 'division': 'C', 'cumpleaños': '30/09/2006'}\n",
            "{'apellido': 'Giangreco', 'nombre': ' Vitto Tomasso', 'curso': 5, 'division': 'C', 'cumpleaños': '30/09/2006'}\n",
            "{'apellido': 'Grancara', 'nombre': ' Martina Luna', 'curso': 5, 'division': 'C', 'cumpleaños': '30/09/2006'}\n",
            "{'apellido': 'Guanca', 'nombre': ' Sara Elizabeth', 'curso': 5, 'division': 'C', 'cumpleaños': '30/09/2006'}\n",
            "{'apellido': 'Lopez', 'nombre': ' Victoria Constanza', 'curso': 5, 'division': 'C', 'cumpleaños': '30/09/2006'}\n",
            "{'apellido': 'Mamani Garrido', 'nombre': ' Rosario Agostina', 'curso': 5, 'division': 'C', 'cumpleaños': '30/09/2006'}\n",
            "{'apellido': 'Marinaro', 'nombre': ' Martin Ezequiel', 'curso': 5, 'division': 'C', 'cumpleaños': '30/09/2006'}\n",
            "{'apellido': 'Merluzzi Dagum', 'nombre': ' Ignacio', 'curso': 5, 'division': 'C', 'cumpleaños': '30/09/2006'}\n",
            "{'apellido': 'Messina', 'nombre': ' Martina', 'curso': 5, 'division': 'C', 'cumpleaños': '30/09/2006'}\n",
            "{'apellido': 'Rasuk', 'nombre': ' Karim', 'curso': 5, 'division': 'C', 'cumpleaños': '30/09/2006'}\n",
            "{'apellido': 'Rios', 'nombre': ' Lucia Magali', 'curso': 5, 'division': 'C', 'cumpleaños': '30/09/2006'}\n",
            "{'apellido': 'Sanchez Flores', 'nombre': ' Matías Agustín', 'curso': 5, 'division': 'C', 'cumpleaños': '30/09/2006'}\n",
            "{'apellido': 'Scarano', 'nombre': ' Renato Marcelo', 'curso': 5, 'division': 'C', 'cumpleaños': '30/09/2006'}\n",
            "{'apellido': 'Sierra', 'nombre': ' Lucas Mauricio', 'curso': 5, 'division': 'C', 'cumpleaños': '30/09/2006'}\n",
            "{'apellido': 'Tapia', 'nombre': ' Martin Gabriel', 'curso': 5, 'division': 'C', 'cumpleaños': '30/09/2006'}\n",
            "{'apellido': 'Vilte', 'nombre': ' Mia Antonella Alondra', 'curso': 5, 'division': 'C', 'cumpleaños': '30/09/2006'}\n",
            "{'apellido': 'Virgillito', 'nombre': ' Katya Milena', 'curso': 5, 'division': 'C', 'cumpleaños': '30/09/2006'}\n"
          ]
        }
      ]
    },
    {
      "cell_type": "markdown",
      "source": [
        "3. Genera un diccionario en python, en donde la clave sea cada nombre que aparece en las listas y el valor será la cantidad de veces que se encuentra el mismo.\n",
        "Para este punto es posible fusionar ambas listas en una sola, recordá que hay un método que realiza esta acción.\n",
        "\n",
        "Mostrá la informacion generada"
      ],
      "metadata": {
        "id": "UW2dlBsGMAte"
      }
    },
    {
      "cell_type": "code",
      "source": [
        "dict_nombres = {}\n",
        "estudiantes_5 = []\n",
        "estudiantes_5.extend(estudiantes_5d)\n",
        "estudiantes_5.extend(estudiantes_5c)\n",
        "for estudiante in estudiantes_5:\n",
        "  nombres = estudiante[\"nombre\"].split(\" \")\n",
        "  for nombre in nombres:\n",
        "    if nombre in dict_nombres.keys():\n",
        "      dict_nombres[nombre] += 1\n",
        "    else:\n",
        "      dict_nombres[nombre] = 1\n",
        "\n",
        "for nombre in dict_nombres:\n",
        "    print(f\"{nombre}: {dict_nombres[nombre]}\")"
      ],
      "metadata": {
        "id": "EawAy4SANtkl",
        "colab": {
          "base_uri": "https://localhost:8080/"
        },
        "outputId": "87a42e64-e7d9-4cda-817c-a4cbb0b650d4"
      },
      "execution_count": 5,
      "outputs": [
        {
          "output_type": "stream",
          "name": "stdout",
          "text": [
            ": 56\n",
            "Solange: 1\n",
            "Stefania: 1\n",
            "Ludmila: 1\n",
            "Del: 2\n",
            "Milagro: 1\n",
            "Camila: 1\n",
            "Juliana: 1\n",
            "Lucas: 2\n",
            "Gabriel: 3\n",
            "Maria: 2\n",
            "Antonia: 1\n",
            "Paulina: 1\n",
            "Milagros: 1\n",
            "Hugo: 1\n",
            "Mariano: 1\n",
            "Alvaro: 1\n",
            "Tadeo: 1\n",
            "Victoria: 2\n",
            "Agustina: 2\n",
            "Lizzie: 1\n",
            "Amaya: 1\n",
            "Angélica: 1\n",
            "Morena: 2\n",
            "Jazmin: 1\n",
            "Esmeralda: 1\n",
            "Belen: 2\n",
            "Anita: 1\n",
            "Nazarena: 1\n",
            "Marcelo: 2\n",
            "Fabricio: 1\n",
            "Celia: 1\n",
            "Tomas: 1\n",
            "Andres: 1\n",
            "Pedro: 1\n",
            "Francisco: 2\n",
            "Zacarias: 1\n",
            "Josue: 2\n",
            "Mahia: 1\n",
            "Agustin: 1\n",
            "Ignacio: 2\n",
            "Irina: 1\n",
            "Emanuel: 1\n",
            "Tobias: 1\n",
            "Santino: 2\n",
            "Stefano: 1\n",
            "Lourdes: 2\n",
            "Mariel: 1\n",
            "Luana: 1\n",
            "Micaela: 1\n",
            "Leonardo: 1\n",
            "Ezequiel: 3\n",
            "Lautaro: 1\n",
            "Nahuel: 1\n",
            "Agostina: 2\n",
            "Abril: 1\n",
            "Matias: 1\n",
            "Joaquin: 1\n",
            "Nicolas: 1\n",
            "Valentino: 1\n",
            "Salvador: 1\n",
            "Ariana: 1\n",
            "Zoe: 1\n",
            "Valle: 1\n",
            "Dulce: 1\n",
            "Maitena: 1\n",
            "Tiara: 1\n",
            "Octavio: 1\n",
            "Ismael: 1\n",
            "Yamila: 1\n",
            "Vitto: 1\n",
            "Tomasso: 1\n",
            "Martina: 2\n",
            "Luna: 1\n",
            "Sara: 1\n",
            "Elizabeth: 1\n",
            "Constanza: 1\n",
            "Rosario: 1\n",
            "Martin: 2\n",
            "Karim: 1\n",
            "Lucia: 1\n",
            "Magali: 1\n",
            "Matías: 1\n",
            "Agustín: 1\n",
            "Renato: 1\n",
            "Mauricio: 1\n",
            "Mia: 1\n",
            "Antonella: 1\n",
            "Alondra: 1\n",
            "Katya: 1\n",
            "Milena: 1\n"
          ]
        }
      ]
    },
    {
      "cell_type": "markdown",
      "source": [
        "4. Genera un diccionario en python, en donde la clave sea cada apellido que aparece en las listas y el valor será la cantidad de veces que se encuentra el mismo.\n",
        "Para este punto es posible fusionar ambas listas en una sola, recordá que hay un método que realiza esta acción."
      ],
      "metadata": {
        "id": "kZeEHUYVNwGV"
      }
    },
    {
      "cell_type": "code",
      "source": [
        "dict_apellidos = {}\n",
        "estudiantes_5d.extend(estudiantes_5c)\n",
        "for estudiante in estudiantes_5d:\n",
        "    apellidos = estudiante[\"apellido\"].split(\" \")\n",
        "    for apellido in apellidos:\n",
        "      if apellido in dict_apellidos.keys():\n",
        "        dict_apellidos[apellido] += 1\n",
        "      else:\n",
        "        dict_apellidos[apellido] = 1\n",
        "\n",
        "for apellido in dict_apellidos:\n",
        "    print(f\"{apellido}: {dict_apellidos[apellido]}\")"
      ],
      "metadata": {
        "id": "q05GnxXgORzt",
        "colab": {
          "base_uri": "https://localhost:8080/"
        },
        "outputId": "a27115d3-5778-4c12-a2be-474ba91beaf8"
      },
      "execution_count": 6,
      "outputs": [
        {
          "output_type": "stream",
          "name": "stdout",
          "text": [
            "Alurralde: 1\n",
            "Alvarado: 1\n",
            "Angel: 1\n",
            "Arenas: 1\n",
            "Caseres: 1\n",
            "Castillo: 1\n",
            "Correa: 1\n",
            "Segovia: 1\n",
            "D: 1\n",
            "Elia: 1\n",
            "Flores: 3\n",
            "Geronimo: 1\n",
            "Soriano: 1\n",
            "Guzman: 2\n",
            "Jaime: 1\n",
            "Lacour: 1\n",
            "Polo: 1\n",
            "Lascano: 1\n",
            "Guanca: 2\n",
            "Lezcano: 1\n",
            "Martinez: 2\n",
            "Portella: 1\n",
            "Valdivia: 1\n",
            "Retamal: 1\n",
            "Cisneros: 1\n",
            "Rosales: 1\n",
            "Salem: 1\n",
            "Barba: 1\n",
            "Soto: 1\n",
            "Camara: 1\n",
            "Villalba: 1\n",
            "Voltolini: 1\n",
            "Zalazar: 1\n",
            "Abud: 1\n",
            "Laspiur: 1\n",
            "Amador: 1\n",
            "Anaquin: 1\n",
            "Araoz: 1\n",
            "Sanchez: 2\n",
            "Argañaraz: 1\n",
            "Barrera: 1\n",
            "Barrozo: 1\n",
            "Vedia: 1\n",
            "Bettinelli: 1\n",
            "Bracamonte: 1\n",
            "Colque: 1\n",
            "Rivero: 1\n",
            "Diaz: 1\n",
            "Figueroa: 1\n",
            "Cardozo: 1\n",
            "Gallo: 1\n",
            "Galvan: 1\n",
            "Giangreco: 1\n",
            "Grancara: 1\n",
            "Lopez: 1\n",
            "Mamani: 1\n",
            "Garrido: 1\n",
            "Marinaro: 1\n",
            "Merluzzi: 1\n",
            "Dagum: 1\n",
            "Messina: 1\n",
            "Rasuk: 1\n",
            "Rios: 1\n",
            "Scarano: 1\n",
            "Sierra: 1\n",
            "Tapia: 1\n",
            "Vilte: 1\n",
            "Virgillito: 1\n"
          ]
        }
      ]
    },
    {
      "cell_type": "markdown",
      "source": [
        "5. Solicita al usuario que ingrese un apellido y muestra  a todos los estudiantes con ese apellido."
      ],
      "metadata": {
        "id": "ywYmA2JQNp3T"
      }
    },
    {
      "cell_type": "code",
      "source": [
        "apellido = str(input(\"ingrese un apellido:  \")).title()\n",
        "encontrado = False\n",
        "for estudiante in estudiantes_5d:\n",
        "  if apellido in estudiante[\"apellido\"]:\n",
        "    print(estudiante)\n",
        "    encontrado = True\n",
        "if encontrado == False:\n",
        "  print(f\"no se encontró el apellido {apellido}\")"
      ],
      "metadata": {
        "id": "Cnp334ZrOCjK",
        "colab": {
          "base_uri": "https://localhost:8080/"
        },
        "outputId": "086317e4-2f75-44ae-8159-8fb7971301ce"
      },
      "execution_count": 7,
      "outputs": [
        {
          "output_type": "stream",
          "name": "stdout",
          "text": [
            "ingrese un apellido:  D Elia\n",
            "{'apellido': 'D Elia', 'nombre': ' Alvaro Tadeo', 'curso': 5, 'division': 'D', 'cumpleaños': '27/08/2006'}\n"
          ]
        }
      ]
    },
    {
      "cell_type": "markdown",
      "source": [
        "6. Solicita al usuario que ingrese un nombre y muestra a todos los estudiantes con el nombre ingresado."
      ],
      "metadata": {
        "id": "iAXts6saODoU"
      }
    },
    {
      "cell_type": "code",
      "source": [
        "nombre = str(input(\"ingrese un nombre:  \")).title()\n",
        "encontrado = False\n",
        "for estudiante in estudiantes_5d:\n",
        "  if nombre in estudiante[\"nombre\"]:\n",
        "    print(estudiante)\n",
        "    encontrado = True\n",
        "if encontrado == False:\n",
        "  print(f\"no se encontró el nombre {nombre}\")"
      ],
      "metadata": {
        "id": "FMRsUlvtOJS_",
        "colab": {
          "base_uri": "https://localhost:8080/"
        },
        "outputId": "9b4b2263-7669-443b-a7d0-cf3d7ebeb416"
      },
      "execution_count": 8,
      "outputs": [
        {
          "output_type": "stream",
          "name": "stdout",
          "text": [
            "ingrese un nombre:  Tadeo \n",
            "no se encontró el nombre Tadeo \n"
          ]
        }
      ]
    },
    {
      "cell_type": "markdown",
      "source": [
        "7. Busca el diccionario con tu información dentro de la lista y cámbiate de división, de tal manera que si estas en 5C, con el cambio quedes en 5D y viceversa."
      ],
      "metadata": {
        "id": "T4PFiwwdOK27"
      }
    },
    {
      "cell_type": "code",
      "source": [
        "num= int(input(\"ingrese un número:\"))\n",
        "salida = \"es par\" if num%2==0 else\"es impar\"\n",
        "print(salida)"
      ],
      "metadata": {
        "id": "vjQ2X9x3OmFr",
        "colab": {
          "base_uri": "https://localhost:8080/"
        },
        "outputId": "3c1f69aa-a7c7-48b7-84e9-97e4b6e77bae"
      },
      "execution_count": 9,
      "outputs": [
        {
          "output_type": "stream",
          "name": "stdout",
          "text": [
            "ingrese un número:27\n",
            "es impar\n"
          ]
        }
      ]
    },
    {
      "cell_type": "markdown",
      "source": [
        "8. Ordenar la lista alfabeticamente por nombre. Ascendente y descendentemente. Para elegir como ordenarla, mostrar un menú donde el usuario podrá decidir como quiere ver la salida."
      ],
      "metadata": {
        "id": "xfy8SFlZRVGf"
      }
    },
    {
      "cell_type": "code",
      "source": [
        "print(\"\"\"\n",
        "1. Ordenar alfabeticamente por nombre de manera ascendente\n",
        "2. Ordenar alfabeticamente por nombre de manera descendente\n",
        "\"\"\")\n",
        "opcion = int(input(\"Ingrese una opcion: \"))\n",
        "if opcion == 1:\n",
        "  estudiantes_5d.sort(key=lambda x: x['nombre'])\n",
        "else:\n",
        "  estudiantes_5d.sort(key=lambda x: x['nombre'], reverse=True)\n",
        "\n",
        "if opcion == 1:\n",
        "  estudiantes_5c.sort(key=lambda x: x['nombre'])\n",
        "else:\n",
        "  estudiantes_5c.sort(key=lambda x: x['nombre'], reverse=True)\n",
        "\n",
        "\n",
        "print(\"\"\"\n",
        "1. Salida en lista\n",
        "2. Salida en diccionario\n",
        "\"\"\")\n",
        "opcion_b = int(input(\"Ingrese una opcion: \"))\n",
        "if opcion_b == 1:\n",
        "  print(\"Estudiantes 5D:\", [estudiante['nombre'] for estudiante in estudiantes_5d])\n",
        "  print(\"Estudiantes 5C:\", [estudiante['nombre'] for estudiante in estudiantes_5c])\n",
        "else:\n",
        "  for estudiante in estudiantes_5d:\n",
        "    print(estudiante)\n",
        "  for estudiante in estudiantes_5c:\n",
        "    print(estudiante)"
      ],
      "metadata": {
        "id": "E4Onk1FNRUa2",
        "colab": {
          "base_uri": "https://localhost:8080/"
        },
        "outputId": "1f15be92-cce5-4647-951e-0f4b57c09bc0"
      },
      "execution_count": 10,
      "outputs": [
        {
          "output_type": "stream",
          "name": "stdout",
          "text": [
            "\n",
            "1. Ordenar alfabeticamente por nombre de manera ascendente\n",
            "2. Ordenar alfabeticamente por nombre de manera descendente\n",
            "\n",
            "Ingrese una opcion: 1\n",
            "\n",
            "1. Salida en lista\n",
            "2. Salida en diccionario\n",
            "\n",
            "Ingrese una opcion: 1\n",
            "Estudiantes 5D: [' Agostina Abril', ' Agustin Ignacio', ' Agustina Tiara', ' Alvaro Tadeo', ' Angélica Morena', ' Anita Maria Belen', ' Ariana Zoe Del Valle', ' Camila Juliana', ' Celia Morena', ' Dulce Maitena', ' Emanuel Tobias', ' Francisco Gabriel', ' Hugo Mariano', ' Ignacio', ' Irina', ' Jazmin Esmeralda Belen', ' Joaquin Nicolas', ' Karim', ' Katya Milena', ' Lautaro Nahuel', ' Leonardo Ezequiel', ' Lizzie Amaya', ' Lourdes Mariel', ' Lourdes Yamila', ' Luana Micaela', ' Lucas Gabriel', ' Lucas Mauricio', ' Lucia Magali', ' Ludmila Del Milagro', ' Mahia', ' Marcelo Fabricio', ' Maria Antonia', ' Martin Ezequiel', ' Martin Gabriel', ' Martina', ' Martina Luna', ' Matias Ezequiel', ' Matías Agustín', ' Mia Antonella Alondra', ' Nazarena', ' Octavio Ismael', ' Paulina Milagros', ' Pedro Francisco', ' Renato Marcelo', ' Rosario Agostina', ' Salvador', ' Santino Josue', ' Santino Stefano', ' Sara Elizabeth', ' Solange Stefania', ' Tomas Andres', ' Valentino', ' Victoria Agustina', ' Victoria Constanza', ' Vitto Tomasso', ' Zacarias Josue']\n",
            "Estudiantes 5C: [' Agostina Abril', ' Agustina Tiara', ' Ariana Zoe Del Valle', ' Dulce Maitena', ' Ignacio', ' Joaquin Nicolas', ' Karim', ' Katya Milena', ' Lautaro Nahuel', ' Leonardo Ezequiel', ' Lourdes Mariel', ' Lourdes Yamila', ' Luana Micaela', ' Lucas Mauricio', ' Lucia Magali', ' Martin Ezequiel', ' Martin Gabriel', ' Martina', ' Martina Luna', ' Matias Ezequiel', ' Matías Agustín', ' Mia Antonella Alondra', ' Octavio Ismael', ' Renato Marcelo', ' Rosario Agostina', ' Salvador', ' Santino Josue', ' Sara Elizabeth', ' Valentino', ' Victoria Constanza', ' Vitto Tomasso']\n"
          ]
        }
      ]
    },
    {
      "cell_type": "markdown",
      "source": [
        "9. Ordenar la lista alfabeticamente por apellido. Ascendente y descendentemente. Para elegir como ordenarla, mostrar un menú donde el usuario podrá decidir como quiere ver la salida."
      ],
      "metadata": {
        "id": "lW18NgPjRcGP"
      }
    },
    {
      "cell_type": "code",
      "source": [
        "\n",
        "print(\"\"\"\n",
        "1. Ordenar alfabeticamente por apellido de manera ascendente\n",
        "2. Ordenar alfabeticamente por apellido de manera descendente\n",
        "\"\"\")\n",
        "opcion = int(input(\"Ingrese una opcion: \"))\n",
        "if opcion == 1:\n",
        "  estudiantes_5d.sort(key=lambda x: x['apellido'])\n",
        "else:\n",
        "  estudiantes_5d.sort(key=lambda x: x['apellido'], reverse=True)\n",
        "\n",
        "if opcion == 1:\n",
        "  estudiantes_5c.sort(key=lambda x: x['apellido'])\n",
        "else:\n",
        "  estudiantes_5c.sort(key=lambda x: x['apellido'], reverse=True)\n",
        "\n",
        "print(\"\"\"\n",
        "1. Salida en lista\n",
        "2. Salida en diccionario\n",
        "\"\"\")\n",
        "opcion_b = int(input(\"Ingrese una opcion: \"))\n",
        "if opcion_b == 1:\n",
        "  print(\"Estudiantes 5D:\", [estudiante['apellido'] for estudiante in estudiantes_5d])\n",
        "  print(\"Estudiantes 5C:\", [estudiante['apellido'] for estudiante in estudiantes_5c])\n",
        "else:\n",
        "  for estudiante in estudiantes_5d:\n",
        "    print(estudiante)\n",
        "  for estudiante in estudiantes_5c:\n",
        "    print(estudiante)"
      ],
      "metadata": {
        "id": "jTtWBnalRcoC",
        "colab": {
          "base_uri": "https://localhost:8080/"
        },
        "outputId": "750696fc-c942-41ea-ff70-d81c589b7b70"
      },
      "execution_count": 11,
      "outputs": [
        {
          "output_type": "stream",
          "name": "stdout",
          "text": [
            "\n",
            "1. Ordenar alfabeticamente por apellido de manera ascendente\n",
            "2. Ordenar alfabeticamente por apellido de manera descendente\n",
            "\n",
            "Ingrese una opcion: 2\n",
            "\n",
            "1. Salida en lista\n",
            "2. Salida en diccionario\n",
            "\n",
            "Ingrese una opcion: 2\n",
            "{'apellido': 'Zalazar', 'nombre': ' Santino Stefano', 'curso': 5, 'division': 'D', 'cumpleaños': '30/09/2006'}\n",
            "{'apellido': 'Voltolini', 'nombre': ' Emanuel Tobias', 'curso': 5, 'division': 'D', 'cumpleaños': '17/09/2006'}\n",
            "{'apellido': 'Virgillito', 'nombre': ' Katya Milena', 'curso': 5, 'division': 'C', 'cumpleaños': '30/09/2006'}\n",
            "{'apellido': 'Vilte', 'nombre': ' Mia Antonella Alondra', 'curso': 5, 'division': 'C', 'cumpleaños': '30/09/2006'}\n",
            "{'apellido': 'Villalba', 'nombre': ' Irina', 'curso': 5, 'division': 'D', 'cumpleaños': '09/09/2006'}\n",
            "{'apellido': 'Tapia', 'nombre': ' Martin Gabriel', 'curso': 5, 'division': 'C', 'cumpleaños': '30/09/2006'}\n",
            "{'apellido': 'Soto Camara', 'nombre': ' Agustin Ignacio', 'curso': 5, 'division': 'D', 'cumpleaños': '07/11/2005'}\n",
            "{'apellido': 'Sierra', 'nombre': ' Lucas Mauricio', 'curso': 5, 'division': 'C', 'cumpleaños': '30/09/2006'}\n",
            "{'apellido': 'Scarano', 'nombre': ' Renato Marcelo', 'curso': 5, 'division': 'C', 'cumpleaños': '30/09/2006'}\n",
            "{'apellido': 'Sanchez Flores', 'nombre': ' Matías Agustín', 'curso': 5, 'division': 'C', 'cumpleaños': '30/09/2006'}\n",
            "{'apellido': 'Salem Barba', 'nombre': ' Mahia', 'curso': 5, 'division': 'D', 'cumpleaños': '14/10/2005'}\n",
            "{'apellido': 'Rosales', 'nombre': ' Francisco Gabriel', 'curso': 5, 'division': 'D', 'cumpleaños': '14/11/2006'}\n",
            "{'apellido': 'Rios', 'nombre': ' Lucia Magali', 'curso': 5, 'division': 'C', 'cumpleaños': '30/09/2006'}\n",
            "{'apellido': 'Retamal Cisneros', 'nombre': ' Zacarias Josue', 'curso': 5, 'division': 'D', 'cumpleaños': '24/02/2007'}\n",
            "{'apellido': 'Rasuk', 'nombre': ' Karim', 'curso': 5, 'division': 'C', 'cumpleaños': '30/09/2006'}\n",
            "{'apellido': 'Portella Valdivia', 'nombre': ' Pedro Francisco', 'curso': 5, 'division': 'D', 'cumpleaños': '24/01/2007'}\n",
            "{'apellido': 'Messina', 'nombre': ' Martina', 'curso': 5, 'division': 'C', 'cumpleaños': '30/09/2006'}\n",
            "{'apellido': 'Merluzzi Dagum', 'nombre': ' Ignacio', 'curso': 5, 'division': 'C', 'cumpleaños': '30/09/2006'}\n",
            "{'apellido': 'Martinez', 'nombre': ' Tomas Andres', 'curso': 5, 'division': 'D', 'cumpleaños': '22/03/2007'}\n",
            "{'apellido': 'Marinaro', 'nombre': ' Martin Ezequiel', 'curso': 5, 'division': 'C', 'cumpleaños': '30/09/2006'}\n",
            "{'apellido': 'Mamani Garrido', 'nombre': ' Rosario Agostina', 'curso': 5, 'division': 'C', 'cumpleaños': '30/09/2006'}\n",
            "{'apellido': 'Lopez', 'nombre': ' Victoria Constanza', 'curso': 5, 'division': 'C', 'cumpleaños': '30/09/2006'}\n",
            "{'apellido': 'Lezcano', 'nombre': ' Celia Morena', 'curso': 5, 'division': 'D', 'cumpleaños': '01/07/2005'}\n",
            "{'apellido': 'Lascano Guanca', 'nombre': ' Marcelo Fabricio', 'curso': 5, 'division': 'D', 'cumpleaños': '17/02/2006'}\n",
            "{'apellido': 'Lacour Polo', 'nombre': ' Nazarena', 'curso': 5, 'division': 'D', 'cumpleaños': '19/12/2005'}\n",
            "{'apellido': 'Jaime', 'nombre': ' Anita Maria Belen', 'curso': 5, 'division': 'D', 'cumpleaños': '19/04/2007'}\n",
            "{'apellido': 'Guzman', 'nombre': ' Angélica Morena', 'curso': 5, 'division': 'D', 'cumpleaños': '11/04/2007'}\n",
            "{'apellido': 'Guzman', 'nombre': ' Jazmin Esmeralda Belen', 'curso': 5, 'division': 'D', 'cumpleaños': '31/07/2006'}\n",
            "{'apellido': 'Guanca', 'nombre': ' Sara Elizabeth', 'curso': 5, 'division': 'C', 'cumpleaños': '30/09/2006'}\n",
            "{'apellido': 'Grancara', 'nombre': ' Martina Luna', 'curso': 5, 'division': 'C', 'cumpleaños': '30/09/2006'}\n",
            "{'apellido': 'Giangreco', 'nombre': ' Vitto Tomasso', 'curso': 5, 'division': 'C', 'cumpleaños': '30/09/2006'}\n",
            "{'apellido': 'Geronimo Soriano', 'nombre': ' Lizzie Amaya', 'curso': 5, 'division': 'D', 'cumpleaños': '20/01/2007'}\n",
            "{'apellido': 'Galvan', 'nombre': ' Lourdes Yamila', 'curso': 5, 'division': 'C', 'cumpleaños': '30/09/2006'}\n",
            "{'apellido': 'Gallo', 'nombre': ' Octavio Ismael', 'curso': 5, 'division': 'C', 'cumpleaños': '30/09/2006'}\n",
            "{'apellido': 'Flores Cardozo', 'nombre': ' Agustina Tiara', 'curso': 5, 'division': 'C', 'cumpleaños': '30/09/2006'}\n",
            "{'apellido': 'Flores', 'nombre': ' Victoria Agustina', 'curso': 5, 'division': 'D', 'cumpleaños': '12/12/2006'}\n",
            "{'apellido': 'Figueroa', 'nombre': ' Santino Josue', 'curso': 5, 'division': 'C', 'cumpleaños': '30/09/2006'}\n",
            "{'apellido': 'Diaz', 'nombre': ' Dulce Maitena', 'curso': 5, 'division': 'C', 'cumpleaños': '30/09/2006'}\n",
            "{'apellido': 'D Elia', 'nombre': ' Alvaro Tadeo', 'curso': 5, 'division': 'D', 'cumpleaños': '27/08/2006'}\n",
            "{'apellido': 'Correa Segovia', 'nombre': ' Hugo Mariano', 'curso': 5, 'division': 'D', 'cumpleaños': '04/12/2006'}\n",
            "{'apellido': 'Colque Rivero', 'nombre': ' Ariana Zoe Del Valle', 'curso': 5, 'division': 'C', 'cumpleaños': '30/09/2006'}\n",
            "{'apellido': 'Castillo', 'nombre': ' Paulina Milagros', 'curso': 5, 'division': 'D', 'cumpleaños': '01/06/2007'}\n",
            "{'apellido': 'Caseres', 'nombre': ' Maria Antonia', 'curso': 5, 'division': 'D', 'cumpleaños': '01/07/2006'}\n",
            "{'apellido': 'Bracamonte Martinez', 'nombre': ' Salvador', 'curso': 5, 'division': 'C', 'cumpleaños': '30/09/2006'}\n",
            "{'apellido': 'Bettinelli', 'nombre': ' Valentino', 'curso': 5, 'division': 'C', 'cumpleaños': '30/09/2006'}\n",
            "{'apellido': 'Barrozo Vedia', 'nombre': ' Joaquin Nicolas', 'curso': 5, 'division': 'C', 'cumpleaños': '30/09/2006'}\n",
            "{'apellido': 'Barrera', 'nombre': ' Matias Ezequiel', 'curso': 5, 'division': 'C', 'cumpleaños': '30/09/2006'}\n",
            "{'apellido': 'Argañaraz', 'nombre': ' Agostina Abril', 'curso': 5, 'division': 'C', 'cumpleaños': '30/09/2006'}\n",
            "{'apellido': 'Arenas', 'nombre': ' Lucas Gabriel', 'curso': 5, 'division': 'D', 'cumpleaños': '26/06/2007'}\n",
            "{'apellido': 'Araoz Sanchez', 'nombre': ' Lautaro Nahuel', 'curso': 5, 'division': 'C', 'cumpleaños': '30/09/2006'}\n",
            "{'apellido': 'Angel', 'nombre': ' Camila Juliana', 'curso': 5, 'division': 'D', 'cumpleaños': '07/03/2007'}\n",
            "{'apellido': 'Anaquin', 'nombre': ' Leonardo Ezequiel', 'curso': 5, 'division': 'C', 'cumpleaños': '30/09/2006'}\n",
            "{'apellido': 'Amador', 'nombre': ' Luana Micaela', 'curso': 5, 'division': 'C', 'cumpleaños': '30/09/2006'}\n",
            "{'apellido': 'Alvarado', 'nombre': ' Ludmila Del Milagro', 'curso': 5, 'division': 'D', 'cumpleaños': '06/09/2006'}\n",
            "{'apellido': 'Alurralde', 'nombre': ' Solange Stefania', 'curso': 5, 'division': 'D', 'cumpleaños': '02/04/2007'}\n",
            "{'apellido': 'Abud Laspiur', 'nombre': ' Lourdes Mariel', 'curso': 5, 'division': 'C', 'cumpleaños': '30/09/2006'}\n",
            "{'apellido': 'Virgillito', 'nombre': ' Katya Milena', 'curso': 5, 'division': 'C', 'cumpleaños': '30/09/2006'}\n",
            "{'apellido': 'Vilte', 'nombre': ' Mia Antonella Alondra', 'curso': 5, 'division': 'C', 'cumpleaños': '30/09/2006'}\n",
            "{'apellido': 'Tapia', 'nombre': ' Martin Gabriel', 'curso': 5, 'division': 'C', 'cumpleaños': '30/09/2006'}\n",
            "{'apellido': 'Sierra', 'nombre': ' Lucas Mauricio', 'curso': 5, 'division': 'C', 'cumpleaños': '30/09/2006'}\n",
            "{'apellido': 'Scarano', 'nombre': ' Renato Marcelo', 'curso': 5, 'division': 'C', 'cumpleaños': '30/09/2006'}\n",
            "{'apellido': 'Sanchez Flores', 'nombre': ' Matías Agustín', 'curso': 5, 'division': 'C', 'cumpleaños': '30/09/2006'}\n",
            "{'apellido': 'Rios', 'nombre': ' Lucia Magali', 'curso': 5, 'division': 'C', 'cumpleaños': '30/09/2006'}\n",
            "{'apellido': 'Rasuk', 'nombre': ' Karim', 'curso': 5, 'division': 'C', 'cumpleaños': '30/09/2006'}\n",
            "{'apellido': 'Messina', 'nombre': ' Martina', 'curso': 5, 'division': 'C', 'cumpleaños': '30/09/2006'}\n",
            "{'apellido': 'Merluzzi Dagum', 'nombre': ' Ignacio', 'curso': 5, 'division': 'C', 'cumpleaños': '30/09/2006'}\n",
            "{'apellido': 'Marinaro', 'nombre': ' Martin Ezequiel', 'curso': 5, 'division': 'C', 'cumpleaños': '30/09/2006'}\n",
            "{'apellido': 'Mamani Garrido', 'nombre': ' Rosario Agostina', 'curso': 5, 'division': 'C', 'cumpleaños': '30/09/2006'}\n",
            "{'apellido': 'Lopez', 'nombre': ' Victoria Constanza', 'curso': 5, 'division': 'C', 'cumpleaños': '30/09/2006'}\n",
            "{'apellido': 'Guanca', 'nombre': ' Sara Elizabeth', 'curso': 5, 'division': 'C', 'cumpleaños': '30/09/2006'}\n",
            "{'apellido': 'Grancara', 'nombre': ' Martina Luna', 'curso': 5, 'division': 'C', 'cumpleaños': '30/09/2006'}\n",
            "{'apellido': 'Giangreco', 'nombre': ' Vitto Tomasso', 'curso': 5, 'division': 'C', 'cumpleaños': '30/09/2006'}\n",
            "{'apellido': 'Galvan', 'nombre': ' Lourdes Yamila', 'curso': 5, 'division': 'C', 'cumpleaños': '30/09/2006'}\n",
            "{'apellido': 'Gallo', 'nombre': ' Octavio Ismael', 'curso': 5, 'division': 'C', 'cumpleaños': '30/09/2006'}\n",
            "{'apellido': 'Flores Cardozo', 'nombre': ' Agustina Tiara', 'curso': 5, 'division': 'C', 'cumpleaños': '30/09/2006'}\n",
            "{'apellido': 'Figueroa', 'nombre': ' Santino Josue', 'curso': 5, 'division': 'C', 'cumpleaños': '30/09/2006'}\n",
            "{'apellido': 'Diaz', 'nombre': ' Dulce Maitena', 'curso': 5, 'division': 'C', 'cumpleaños': '30/09/2006'}\n",
            "{'apellido': 'Colque Rivero', 'nombre': ' Ariana Zoe Del Valle', 'curso': 5, 'division': 'C', 'cumpleaños': '30/09/2006'}\n",
            "{'apellido': 'Bracamonte Martinez', 'nombre': ' Salvador', 'curso': 5, 'division': 'C', 'cumpleaños': '30/09/2006'}\n",
            "{'apellido': 'Bettinelli', 'nombre': ' Valentino', 'curso': 5, 'division': 'C', 'cumpleaños': '30/09/2006'}\n",
            "{'apellido': 'Barrozo Vedia', 'nombre': ' Joaquin Nicolas', 'curso': 5, 'division': 'C', 'cumpleaños': '30/09/2006'}\n",
            "{'apellido': 'Barrera', 'nombre': ' Matias Ezequiel', 'curso': 5, 'division': 'C', 'cumpleaños': '30/09/2006'}\n",
            "{'apellido': 'Argañaraz', 'nombre': ' Agostina Abril', 'curso': 5, 'division': 'C', 'cumpleaños': '30/09/2006'}\n",
            "{'apellido': 'Araoz Sanchez', 'nombre': ' Lautaro Nahuel', 'curso': 5, 'division': 'C', 'cumpleaños': '30/09/2006'}\n",
            "{'apellido': 'Anaquin', 'nombre': ' Leonardo Ezequiel', 'curso': 5, 'division': 'C', 'cumpleaños': '30/09/2006'}\n",
            "{'apellido': 'Amador', 'nombre': ' Luana Micaela', 'curso': 5, 'division': 'C', 'cumpleaños': '30/09/2006'}\n",
            "{'apellido': 'Abud Laspiur', 'nombre': ' Lourdes Mariel', 'curso': 5, 'division': 'C', 'cumpleaños': '30/09/2006'}\n"
          ]
        }
      ]
    },
    {
      "cell_type": "markdown",
      "source": [
        "10. Ordena la lista por fecha de nacimiento, de manera ascendente y descendente."
      ],
      "metadata": {
        "id": "E24lH7x5Xbur"
      }
    },
    {
      "cell_type": "code",
      "source": [
        "print(\"\"\"\n",
        "1. Ordenar por fecha de nacimiento de manera ascendente\n",
        "2. Ordenar por fecha de nacimiento de manera descendente\n",
        "\"\"\")\n",
        "opcion = int(input(\"Ingrese una opcion: \"))\n",
        "if opcion == 1:\n",
        "  estudiantes_5d.sort(key=lambda x: x['fecha_de_nacimiento'])\n",
        "else:\n",
        "  estudiantes_5d.sort(key=lambda x: x['fecha_de_nacimiento'], reverse=True)\n",
        "\n",
        "if opcion == 1:\n",
        "  estudiantes_5c.sort(key=lambda x: x['fecha_de_nacimiento'])\n",
        "else:\n",
        "  estudiantes_5c.sort(key=lambda x: x['fecha_de_nacimiento'], reverse=True)\n",
        "\n",
        "print(\"\"\"\n",
        "1. Salida en lista\n",
        "2. Salida en diccionario\n",
        "\"\"\")\n",
        "\n",
        "opcion_b = int(input(\"Ingrese una opcion: \"))\n",
        "if opcion_b == 1:\n",
        "  print(\"Estudiantes 5D:\", [estudiante['fecha_de_nacimiento'] for estudiante in estudiantes_5d])\n",
        "  print(\"Estudiantes 5C:\", [estudiante['fecha_de_nacimiento'] for estudiante in estudiantes_5c])\n",
        "else:\n",
        "  for estudiante in estudiantes_5d:\n",
        "    print(estudiante)\n",
        "  for estudiante in estudiantes_5c:\n",
        "    print(estudiante)"
      ],
      "metadata": {
        "id": "9SeI3GBGXims",
        "colab": {
          "base_uri": "https://localhost:8080/",
          "height": 612
        },
        "outputId": "7498984a-285b-4d52-c178-95ac3f8f1f6c"
      },
      "execution_count": 16,
      "outputs": [
        {
          "name": "stdout",
          "output_type": "stream",
          "text": [
            "\n",
            "1. Ordenar por fecha de nacimiento de manera ascendente\n",
            "2. Ordenar por fecha de nacimiento de manera descendente\n",
            "\n",
            "Ingrese una opcion: 2\n"
          ]
        },
        {
          "output_type": "error",
          "ename": "KeyError",
          "evalue": "'fecha_de_nacimiento'",
          "traceback": [
            "\u001b[0;31m---------------------------------------------------------------------------\u001b[0m",
            "\u001b[0;31mKeyError\u001b[0m                                  Traceback (most recent call last)",
            "\u001b[0;32m<ipython-input-16-17bd79cc4a0d>\u001b[0m in \u001b[0;36m<cell line: 6>\u001b[0;34m()\u001b[0m\n\u001b[1;32m      7\u001b[0m   \u001b[0mestudiantes_5d\u001b[0m\u001b[0;34m.\u001b[0m\u001b[0msort\u001b[0m\u001b[0;34m(\u001b[0m\u001b[0mkey\u001b[0m\u001b[0;34m=\u001b[0m\u001b[0;32mlambda\u001b[0m \u001b[0mx\u001b[0m\u001b[0;34m:\u001b[0m \u001b[0mx\u001b[0m\u001b[0;34m[\u001b[0m\u001b[0;34m'fecha_de_nacimiento'\u001b[0m\u001b[0;34m]\u001b[0m\u001b[0;34m)\u001b[0m\u001b[0;34m\u001b[0m\u001b[0;34m\u001b[0m\u001b[0m\n\u001b[1;32m      8\u001b[0m \u001b[0;32melse\u001b[0m\u001b[0;34m:\u001b[0m\u001b[0;34m\u001b[0m\u001b[0;34m\u001b[0m\u001b[0m\n\u001b[0;32m----> 9\u001b[0;31m   \u001b[0mestudiantes_5d\u001b[0m\u001b[0;34m.\u001b[0m\u001b[0msort\u001b[0m\u001b[0;34m(\u001b[0m\u001b[0mkey\u001b[0m\u001b[0;34m=\u001b[0m\u001b[0;32mlambda\u001b[0m \u001b[0mx\u001b[0m\u001b[0;34m:\u001b[0m \u001b[0mx\u001b[0m\u001b[0;34m[\u001b[0m\u001b[0;34m'fecha_de_nacimiento'\u001b[0m\u001b[0;34m]\u001b[0m\u001b[0;34m,\u001b[0m \u001b[0mreverse\u001b[0m\u001b[0;34m=\u001b[0m\u001b[0;32mTrue\u001b[0m\u001b[0;34m)\u001b[0m\u001b[0;34m\u001b[0m\u001b[0;34m\u001b[0m\u001b[0m\n\u001b[0m\u001b[1;32m     10\u001b[0m \u001b[0;34m\u001b[0m\u001b[0m\n\u001b[1;32m     11\u001b[0m \u001b[0;32mif\u001b[0m \u001b[0mopcion\u001b[0m \u001b[0;34m==\u001b[0m \u001b[0;36m1\u001b[0m\u001b[0;34m:\u001b[0m\u001b[0;34m\u001b[0m\u001b[0;34m\u001b[0m\u001b[0m\n",
            "\u001b[0;32m<ipython-input-16-17bd79cc4a0d>\u001b[0m in \u001b[0;36m<lambda>\u001b[0;34m(x)\u001b[0m\n\u001b[1;32m      7\u001b[0m   \u001b[0mestudiantes_5d\u001b[0m\u001b[0;34m.\u001b[0m\u001b[0msort\u001b[0m\u001b[0;34m(\u001b[0m\u001b[0mkey\u001b[0m\u001b[0;34m=\u001b[0m\u001b[0;32mlambda\u001b[0m \u001b[0mx\u001b[0m\u001b[0;34m:\u001b[0m \u001b[0mx\u001b[0m\u001b[0;34m[\u001b[0m\u001b[0;34m'fecha_de_nacimiento'\u001b[0m\u001b[0;34m]\u001b[0m\u001b[0;34m)\u001b[0m\u001b[0;34m\u001b[0m\u001b[0;34m\u001b[0m\u001b[0m\n\u001b[1;32m      8\u001b[0m \u001b[0;32melse\u001b[0m\u001b[0;34m:\u001b[0m\u001b[0;34m\u001b[0m\u001b[0;34m\u001b[0m\u001b[0m\n\u001b[0;32m----> 9\u001b[0;31m   \u001b[0mestudiantes_5d\u001b[0m\u001b[0;34m.\u001b[0m\u001b[0msort\u001b[0m\u001b[0;34m(\u001b[0m\u001b[0mkey\u001b[0m\u001b[0;34m=\u001b[0m\u001b[0;32mlambda\u001b[0m \u001b[0mx\u001b[0m\u001b[0;34m:\u001b[0m \u001b[0mx\u001b[0m\u001b[0;34m[\u001b[0m\u001b[0;34m'fecha_de_nacimiento'\u001b[0m\u001b[0;34m]\u001b[0m\u001b[0;34m,\u001b[0m \u001b[0mreverse\u001b[0m\u001b[0;34m=\u001b[0m\u001b[0;32mTrue\u001b[0m\u001b[0;34m)\u001b[0m\u001b[0;34m\u001b[0m\u001b[0;34m\u001b[0m\u001b[0m\n\u001b[0m\u001b[1;32m     10\u001b[0m \u001b[0;34m\u001b[0m\u001b[0m\n\u001b[1;32m     11\u001b[0m \u001b[0;32mif\u001b[0m \u001b[0mopcion\u001b[0m \u001b[0;34m==\u001b[0m \u001b[0;36m1\u001b[0m\u001b[0;34m:\u001b[0m\u001b[0;34m\u001b[0m\u001b[0;34m\u001b[0m\u001b[0m\n",
            "\u001b[0;31mKeyError\u001b[0m: 'fecha_de_nacimiento'"
          ]
        }
      ]
    },
    {
      "cell_type": "markdown",
      "source": [
        "11. Generar una estuctura de diccionario anidado en donde la clave sea el nombre del estudiante y el valor sea un diccionario con los datos del mismo, de la siguiente manera:\n",
        "\n",
        "\n",
        "\n",
        "\n",
        "```python\n",
        "estudiantes = {\n",
        "    \"Juan Perez\": {\n",
        "        \"año\": 2024,\n",
        "        \"división\": \"5D\",\n",
        "        \"fecha de nacimiento\": \"15/03/2006\"\n",
        "    },\n",
        "    \"Maria Gomez\": {\n",
        "        \"año\": 2024,\n",
        "        \"división\": \"5D\",\n",
        "        \"fecha de nacimiento\": \"22/07/2006\"\n",
        "    },\n",
        "    \"Carlos Lopez\": {\n",
        "        \"año\": 2024,\n",
        "        \"división\": \"5D\",\n",
        "        \"fecha de nacimiento\": \"05/10/2006\"\n",
        "    }\n",
        "}\n",
        "```\n",
        "\n",
        "\n",
        "\n",
        "\n"
      ],
      "metadata": {
        "id": "vOY6K_ydRc3Q"
      }
    },
    {
      "cell_type": "code",
      "source": [
        "estudiantes_5d_01 = {}\n",
        "for i in estudiantes_5d:\n",
        "  estudiantes_5d_01[i['nombre']] = {\n",
        "      'año': 2024,\n",
        "      'división': i['division'],\n",
        "      'fecha de nacimiento': i['fecha_de_nacimiento']\n",
        "  }\n",
        "\n",
        "for i in estudiantes_5d_01:\n",
        "  print(i, estudiantes_5d_01[i])\n",
        "\n",
        "estudiantes_5c_01 = {}\n",
        "for i in estudiantes_5c:\n",
        "  estudiantes_5c_01[i['nombre']] = {\n",
        "      'año': 2024,\n",
        "      'división': i['division'],\n",
        "      'fecha de nacimiento': i['fecha_de_nacimiento']\n",
        "  }\n",
        "\n",
        "for i in estudiantes_5c_01:\n",
        "  print(i, estudiantes_5c_01[i])"
      ],
      "metadata": {
        "id": "9JDrd3WqRdTi",
        "colab": {
          "base_uri": "https://localhost:8080/",
          "height": 280
        },
        "outputId": "a8a08289-2e6a-4901-bb66-e38b11fae50a"
      },
      "execution_count": 15,
      "outputs": [
        {
          "output_type": "error",
          "ename": "KeyError",
          "evalue": "'fecha_de_nacimiento'",
          "traceback": [
            "\u001b[0;31m---------------------------------------------------------------------------\u001b[0m",
            "\u001b[0;31mKeyError\u001b[0m                                  Traceback (most recent call last)",
            "\u001b[0;32m<ipython-input-15-48837afcbdaf>\u001b[0m in \u001b[0;36m<cell line: 2>\u001b[0;34m()\u001b[0m\n\u001b[1;32m      4\u001b[0m       \u001b[0;34m'año'\u001b[0m\u001b[0;34m:\u001b[0m \u001b[0;36m2024\u001b[0m\u001b[0;34m,\u001b[0m\u001b[0;34m\u001b[0m\u001b[0;34m\u001b[0m\u001b[0m\n\u001b[1;32m      5\u001b[0m       \u001b[0;34m'división'\u001b[0m\u001b[0;34m:\u001b[0m \u001b[0mi\u001b[0m\u001b[0;34m[\u001b[0m\u001b[0;34m'division'\u001b[0m\u001b[0;34m]\u001b[0m\u001b[0;34m,\u001b[0m\u001b[0;34m\u001b[0m\u001b[0;34m\u001b[0m\u001b[0m\n\u001b[0;32m----> 6\u001b[0;31m       \u001b[0;34m'fecha de nacimiento'\u001b[0m\u001b[0;34m:\u001b[0m \u001b[0mi\u001b[0m\u001b[0;34m[\u001b[0m\u001b[0;34m'fecha_de_nacimiento'\u001b[0m\u001b[0;34m]\u001b[0m\u001b[0;34m\u001b[0m\u001b[0;34m\u001b[0m\u001b[0m\n\u001b[0m\u001b[1;32m      7\u001b[0m   }\n\u001b[1;32m      8\u001b[0m \u001b[0;34m\u001b[0m\u001b[0m\n",
            "\u001b[0;31mKeyError\u001b[0m: 'fecha_de_nacimiento'"
          ]
        }
      ]
    }
  ]
}